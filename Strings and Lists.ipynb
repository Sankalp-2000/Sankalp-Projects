{
 "cells": [
  {
   "cell_type": "code",
   "execution_count": 43,
   "id": "a83b6f9b",
   "metadata": {},
   "outputs": [
    {
     "data": {
      "text/plain": [
       "'Sankalp10'"
      ]
     },
     "execution_count": 43,
     "metadata": {},
     "output_type": "execute_result"
    }
   ],
   "source": [
    "\"Sankalp\" + \"10\""
   ]
  },
  {
   "cell_type": "code",
   "execution_count": 44,
   "id": "ceca4efa",
   "metadata": {},
   "outputs": [
    {
     "data": {
      "text/plain": [
       "'sankalpsankalpsankalpsankalpsankalpsankalpsankalpsankalpsankalpsankalp'"
      ]
     },
     "execution_count": 44,
     "metadata": {},
     "output_type": "execute_result"
    }
   ],
   "source": [
    "\"sankalp\" * 10"
   ]
  },
  {
   "cell_type": "code",
   "execution_count": 45,
   "id": "5c0f6c7e",
   "metadata": {},
   "outputs": [
    {
     "data": {
      "text/plain": [
       "[1, 5, 3, 4, 7, 1, 5, 3, 4, 7, 1, 5, 3, 4, 7]"
      ]
     },
     "execution_count": 45,
     "metadata": {},
     "output_type": "execute_result"
    }
   ],
   "source": [
    "a = [1, 5, 3, 4, 7]\n",
    "a * 3"
   ]
  },
  {
   "cell_type": "code",
   "execution_count": 46,
   "id": "e66637fe",
   "metadata": {},
   "outputs": [
    {
     "data": {
      "text/plain": [
       "[1, 2, 3, 4, 5, 6, 7, 8, 9, 10]"
      ]
     },
     "execution_count": 46,
     "metadata": {},
     "output_type": "execute_result"
    }
   ],
   "source": [
    "list1 = [1,2,3,4,5]\n",
    "list2 = [6,7,8,9,10]\n",
    "list1 + list2"
   ]
  },
  {
   "cell_type": "code",
   "execution_count": 47,
   "id": "19415eae",
   "metadata": {},
   "outputs": [
    {
     "data": {
      "text/plain": [
       "'SANKALP'"
      ]
     },
     "execution_count": 47,
     "metadata": {},
     "output_type": "execute_result"
    }
   ],
   "source": [
    "string = \"sankalp\"\n",
    "string.upper()"
   ]
  },
  {
   "cell_type": "code",
   "execution_count": 48,
   "id": "5f1d14dc",
   "metadata": {},
   "outputs": [
    {
     "data": {
      "text/plain": [
       "'sankalp'"
      ]
     },
     "execution_count": 48,
     "metadata": {},
     "output_type": "execute_result"
    }
   ],
   "source": [
    "str2 = \"SANkalp\"\n",
    "str2.lower()"
   ]
  },
  {
   "cell_type": "code",
   "execution_count": 49,
   "id": "733294fb",
   "metadata": {
    "scrolled": true
   },
   "outputs": [
    {
     "data": {
      "text/plain": [
       "['My', 'name', 'is', 'Sankalp', 'Lohakare']"
      ]
     },
     "execution_count": 49,
     "metadata": {},
     "output_type": "execute_result"
    }
   ],
   "source": [
    "# Delimiter (\"@\" in this case) will note be a part of final result.\n",
    "str3 = \"My@name@is@Sankalp@Lohakare\"\n",
    "str3.split(\"@\")"
   ]
  },
  {
   "cell_type": "code",
   "execution_count": 64,
   "id": "698d86d0",
   "metadata": {},
   "outputs": [
    {
     "data": {
      "text/plain": [
       "['Mynameis', 'Sankalp', 'Lohakare', '', '', '', '', '']"
      ]
     },
     "execution_count": 64,
     "metadata": {},
     "output_type": "execute_result"
    }
   ],
   "source": [
    "str4 = \"MynameisQSankalpQLohakareQQQQQ\"\n",
    "str4.split(\"Q\")"
   ]
  },
  {
   "cell_type": "code",
   "execution_count": 65,
   "id": "eb1153d9",
   "metadata": {},
   "outputs": [
    {
     "data": {
      "text/plain": [
       "('Mynameis', 'Q', 'SankalpQLohakareQQQQQ')"
      ]
     },
     "execution_count": 65,
     "metadata": {},
     "output_type": "execute_result"
    }
   ],
   "source": [
    "str4.partition(\"Q\")"
   ]
  },
  {
   "cell_type": "code",
   "execution_count": null,
   "id": "d99d4f55",
   "metadata": {},
   "outputs": [],
   "source": []
  },
  {
   "cell_type": "code",
   "execution_count": null,
   "id": "c8854c19",
   "metadata": {},
   "outputs": [],
   "source": []
  },
  {
   "cell_type": "code",
   "execution_count": null,
   "id": "b2617c37",
   "metadata": {},
   "outputs": [],
   "source": []
  },
  {
   "cell_type": "code",
   "execution_count": null,
   "id": "27235e98",
   "metadata": {},
   "outputs": [],
   "source": []
  },
  {
   "cell_type": "code",
   "execution_count": null,
   "id": "ba1623cc",
   "metadata": {},
   "outputs": [],
   "source": []
  }
 ],
 "metadata": {
  "kernelspec": {
   "display_name": "Python 3",
   "language": "python",
   "name": "python3"
  },
  "language_info": {
   "codemirror_mode": {
    "name": "ipython",
    "version": 3
   },
   "file_extension": ".py",
   "mimetype": "text/x-python",
   "name": "python",
   "nbconvert_exporter": "python",
   "pygments_lexer": "ipython3",
   "version": "3.8.8"
  }
 },
 "nbformat": 4,
 "nbformat_minor": 5
}
